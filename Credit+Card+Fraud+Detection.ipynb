{
 "cells": [
  {
   "cell_type": "code",
   "execution_count": 1,
   "metadata": {
    "collapsed": true
   },
   "outputs": [],
   "source": [
    "import numpy as np\n",
    "import matplotlib.pyplot as plt\n",
    "import pandas as pd\n",
    "%matplotlib inline\n",
    "import seaborn as sns\n",
    "plt.rcParams['figure.figsize'] = (18,8)"
   ]
  },
  {
   "cell_type": "code",
   "execution_count": 2,
   "metadata": {
    "collapsed": true
   },
   "outputs": [],
   "source": [
    "from sklearn import preprocessing\n",
    "from sklearn.linear_model import LogisticRegressionCV\n",
    "from sklearn.metrics import confusion_matrix\n",
    "from sklearn.metrics import average_precision_score"
   ]
  },
  {
   "cell_type": "code",
   "execution_count": 49,
   "metadata": {
    "collapsed": true
   },
   "outputs": [],
   "source": [
    "import tensorflow as tf"
   ]
  },
  {
   "cell_type": "code",
   "execution_count": 5,
   "metadata": {},
   "outputs": [],
   "source": [
    "from sklearn.ensemble import RandomForestClassifier"
   ]
  },
  {
   "cell_type": "code",
   "execution_count": 6,
   "metadata": {
    "collapsed": true
   },
   "outputs": [],
   "source": [
    "def processing(pd_df):\n",
    "    a = pd_df['Class']\n",
    "    b = pd_df.drop(['Time','Class'],axis = 1)\n",
    "    return a,b"
   ]
  },
  {
   "cell_type": "code",
   "execution_count": 7,
   "metadata": {
    "collapsed": true
   },
   "outputs": [],
   "source": [
    "credit_fraud = pd.read_csv('creditcard.csv') # loading csv dataset into Notebook"
   ]
  },
  {
   "cell_type": "code",
   "execution_count": 8,
   "metadata": {},
   "outputs": [
    {
     "data": {
      "text/html": [
       "<div>\n",
       "<style>\n",
       "    .dataframe thead tr:only-child th {\n",
       "        text-align: right;\n",
       "    }\n",
       "\n",
       "    .dataframe thead th {\n",
       "        text-align: left;\n",
       "    }\n",
       "\n",
       "    .dataframe tbody tr th {\n",
       "        vertical-align: top;\n",
       "    }\n",
       "</style>\n",
       "<table border=\"1\" class=\"dataframe\">\n",
       "  <thead>\n",
       "    <tr style=\"text-align: right;\">\n",
       "      <th></th>\n",
       "      <th>Time</th>\n",
       "      <th>V1</th>\n",
       "      <th>V2</th>\n",
       "      <th>V3</th>\n",
       "      <th>V4</th>\n",
       "      <th>V5</th>\n",
       "      <th>V6</th>\n",
       "      <th>V7</th>\n",
       "      <th>V8</th>\n",
       "      <th>V9</th>\n",
       "      <th>...</th>\n",
       "      <th>V21</th>\n",
       "      <th>V22</th>\n",
       "      <th>V23</th>\n",
       "      <th>V24</th>\n",
       "      <th>V25</th>\n",
       "      <th>V26</th>\n",
       "      <th>V27</th>\n",
       "      <th>V28</th>\n",
       "      <th>Amount</th>\n",
       "      <th>Class</th>\n",
       "    </tr>\n",
       "  </thead>\n",
       "  <tbody>\n",
       "    <tr>\n",
       "      <th>0</th>\n",
       "      <td>0.0</td>\n",
       "      <td>-1.359807</td>\n",
       "      <td>-0.072781</td>\n",
       "      <td>2.536347</td>\n",
       "      <td>1.378155</td>\n",
       "      <td>-0.338321</td>\n",
       "      <td>0.462388</td>\n",
       "      <td>0.239599</td>\n",
       "      <td>0.098698</td>\n",
       "      <td>0.363787</td>\n",
       "      <td>...</td>\n",
       "      <td>-0.018307</td>\n",
       "      <td>0.277838</td>\n",
       "      <td>-0.110474</td>\n",
       "      <td>0.066928</td>\n",
       "      <td>0.128539</td>\n",
       "      <td>-0.189115</td>\n",
       "      <td>0.133558</td>\n",
       "      <td>-0.021053</td>\n",
       "      <td>149.62</td>\n",
       "      <td>0</td>\n",
       "    </tr>\n",
       "    <tr>\n",
       "      <th>1</th>\n",
       "      <td>0.0</td>\n",
       "      <td>1.191857</td>\n",
       "      <td>0.266151</td>\n",
       "      <td>0.166480</td>\n",
       "      <td>0.448154</td>\n",
       "      <td>0.060018</td>\n",
       "      <td>-0.082361</td>\n",
       "      <td>-0.078803</td>\n",
       "      <td>0.085102</td>\n",
       "      <td>-0.255425</td>\n",
       "      <td>...</td>\n",
       "      <td>-0.225775</td>\n",
       "      <td>-0.638672</td>\n",
       "      <td>0.101288</td>\n",
       "      <td>-0.339846</td>\n",
       "      <td>0.167170</td>\n",
       "      <td>0.125895</td>\n",
       "      <td>-0.008983</td>\n",
       "      <td>0.014724</td>\n",
       "      <td>2.69</td>\n",
       "      <td>0</td>\n",
       "    </tr>\n",
       "    <tr>\n",
       "      <th>2</th>\n",
       "      <td>1.0</td>\n",
       "      <td>-1.358354</td>\n",
       "      <td>-1.340163</td>\n",
       "      <td>1.773209</td>\n",
       "      <td>0.379780</td>\n",
       "      <td>-0.503198</td>\n",
       "      <td>1.800499</td>\n",
       "      <td>0.791461</td>\n",
       "      <td>0.247676</td>\n",
       "      <td>-1.514654</td>\n",
       "      <td>...</td>\n",
       "      <td>0.247998</td>\n",
       "      <td>0.771679</td>\n",
       "      <td>0.909412</td>\n",
       "      <td>-0.689281</td>\n",
       "      <td>-0.327642</td>\n",
       "      <td>-0.139097</td>\n",
       "      <td>-0.055353</td>\n",
       "      <td>-0.059752</td>\n",
       "      <td>378.66</td>\n",
       "      <td>0</td>\n",
       "    </tr>\n",
       "    <tr>\n",
       "      <th>3</th>\n",
       "      <td>1.0</td>\n",
       "      <td>-0.966272</td>\n",
       "      <td>-0.185226</td>\n",
       "      <td>1.792993</td>\n",
       "      <td>-0.863291</td>\n",
       "      <td>-0.010309</td>\n",
       "      <td>1.247203</td>\n",
       "      <td>0.237609</td>\n",
       "      <td>0.377436</td>\n",
       "      <td>-1.387024</td>\n",
       "      <td>...</td>\n",
       "      <td>-0.108300</td>\n",
       "      <td>0.005274</td>\n",
       "      <td>-0.190321</td>\n",
       "      <td>-1.175575</td>\n",
       "      <td>0.647376</td>\n",
       "      <td>-0.221929</td>\n",
       "      <td>0.062723</td>\n",
       "      <td>0.061458</td>\n",
       "      <td>123.50</td>\n",
       "      <td>0</td>\n",
       "    </tr>\n",
       "    <tr>\n",
       "      <th>4</th>\n",
       "      <td>2.0</td>\n",
       "      <td>-1.158233</td>\n",
       "      <td>0.877737</td>\n",
       "      <td>1.548718</td>\n",
       "      <td>0.403034</td>\n",
       "      <td>-0.407193</td>\n",
       "      <td>0.095921</td>\n",
       "      <td>0.592941</td>\n",
       "      <td>-0.270533</td>\n",
       "      <td>0.817739</td>\n",
       "      <td>...</td>\n",
       "      <td>-0.009431</td>\n",
       "      <td>0.798278</td>\n",
       "      <td>-0.137458</td>\n",
       "      <td>0.141267</td>\n",
       "      <td>-0.206010</td>\n",
       "      <td>0.502292</td>\n",
       "      <td>0.219422</td>\n",
       "      <td>0.215153</td>\n",
       "      <td>69.99</td>\n",
       "      <td>0</td>\n",
       "    </tr>\n",
       "  </tbody>\n",
       "</table>\n",
       "<p>5 rows × 31 columns</p>\n",
       "</div>"
      ],
      "text/plain": [
       "   Time        V1        V2        V3        V4        V5        V6        V7  \\\n",
       "0   0.0 -1.359807 -0.072781  2.536347  1.378155 -0.338321  0.462388  0.239599   \n",
       "1   0.0  1.191857  0.266151  0.166480  0.448154  0.060018 -0.082361 -0.078803   \n",
       "2   1.0 -1.358354 -1.340163  1.773209  0.379780 -0.503198  1.800499  0.791461   \n",
       "3   1.0 -0.966272 -0.185226  1.792993 -0.863291 -0.010309  1.247203  0.237609   \n",
       "4   2.0 -1.158233  0.877737  1.548718  0.403034 -0.407193  0.095921  0.592941   \n",
       "\n",
       "         V8        V9  ...         V21       V22       V23       V24  \\\n",
       "0  0.098698  0.363787  ...   -0.018307  0.277838 -0.110474  0.066928   \n",
       "1  0.085102 -0.255425  ...   -0.225775 -0.638672  0.101288 -0.339846   \n",
       "2  0.247676 -1.514654  ...    0.247998  0.771679  0.909412 -0.689281   \n",
       "3  0.377436 -1.387024  ...   -0.108300  0.005274 -0.190321 -1.175575   \n",
       "4 -0.270533  0.817739  ...   -0.009431  0.798278 -0.137458  0.141267   \n",
       "\n",
       "        V25       V26       V27       V28  Amount  Class  \n",
       "0  0.128539 -0.189115  0.133558 -0.021053  149.62      0  \n",
       "1  0.167170  0.125895 -0.008983  0.014724    2.69      0  \n",
       "2 -0.327642 -0.139097 -0.055353 -0.059752  378.66      0  \n",
       "3  0.647376 -0.221929  0.062723  0.061458  123.50      0  \n",
       "4 -0.206010  0.502292  0.219422  0.215153   69.99      0  \n",
       "\n",
       "[5 rows x 31 columns]"
      ]
     },
     "execution_count": 8,
     "metadata": {},
     "output_type": "execute_result"
    }
   ],
   "source": [
    "credit_fraud.head()"
   ]
  },
  {
   "cell_type": "code",
   "execution_count": 9,
   "metadata": {
    "scrolled": true
   },
   "outputs": [
    {
     "name": "stdout",
     "output_type": "stream",
     "text": [
      "<class 'pandas.core.frame.DataFrame'>\n",
      "RangeIndex: 284807 entries, 0 to 284806\n",
      "Data columns (total 31 columns):\n",
      "Time      284807 non-null float64\n",
      "V1        284807 non-null float64\n",
      "V2        284807 non-null float64\n",
      "V3        284807 non-null float64\n",
      "V4        284807 non-null float64\n",
      "V5        284807 non-null float64\n",
      "V6        284807 non-null float64\n",
      "V7        284807 non-null float64\n",
      "V8        284807 non-null float64\n",
      "V9        284807 non-null float64\n",
      "V10       284807 non-null float64\n",
      "V11       284807 non-null float64\n",
      "V12       284807 non-null float64\n",
      "V13       284807 non-null float64\n",
      "V14       284807 non-null float64\n",
      "V15       284807 non-null float64\n",
      "V16       284807 non-null float64\n",
      "V17       284807 non-null float64\n",
      "V18       284807 non-null float64\n",
      "V19       284807 non-null float64\n",
      "V20       284807 non-null float64\n",
      "V21       284807 non-null float64\n",
      "V22       284807 non-null float64\n",
      "V23       284807 non-null float64\n",
      "V24       284807 non-null float64\n",
      "V25       284807 non-null float64\n",
      "V26       284807 non-null float64\n",
      "V27       284807 non-null float64\n",
      "V28       284807 non-null float64\n",
      "Amount    284807 non-null float64\n",
      "Class     284807 non-null int64\n",
      "dtypes: float64(30), int64(1)\n",
      "memory usage: 67.4 MB\n"
     ]
    }
   ],
   "source": [
    "credit_fraud.info()"
   ]
  },
  {
   "cell_type": "code",
   "execution_count": 10,
   "metadata": {},
   "outputs": [
    {
     "data": {
      "text/plain": [
       "<matplotlib.text.Text at 0x16312e4afd0>"
      ]
     },
     "execution_count": 10,
     "metadata": {},
     "output_type": "execute_result"
    },
    {
     "data": {
      "image/png": "[encoded data removed]",
      "text/plain": [
       "<matplotlib.figure.Figure at 0x16312dfc208>"
      ]
     },
     "metadata": {},
     "output_type": "display_data"
    }
   ],
   "source": [
    "plt.plot(credit_fraud[credit_fraud['Class']==0]['V1'],credit_fraud[credit_fraud['Class']==0]['V2'],'ro')\n",
    "plt.plot(credit_fraud[credit_fraud['Class']==1]['V1'],credit_fraud[credit_fraud['Class']==1]['V2'],'bo')\n",
    "plt.xlabel('1st Component')\n",
    "plt.ylabel('2nd Component')"
   ]
  },
  {
   "cell_type": "code",
   "execution_count": 11,
   "metadata": {
    "scrolled": true
   },
   "outputs": [
    {
     "data": {
      "text/plain": [
       "(array([  2.75992000e+05,   6.01000000e+03,   1.53900000e+03,\n",
       "          6.27000000e+02,   2.27000000e+02,   1.44000000e+02,\n",
       "          9.20000000e+01,   6.90000000e+01,   3.30000000e+01,\n",
       "          2.20000000e+01,   1.00000000e+01,   1.10000000e+01,\n",
       "          5.00000000e+00,   5.00000000e+00,   5.00000000e+00,\n",
       "          5.00000000e+00,   1.00000000e+00,   2.00000000e+00,\n",
       "          0.00000000e+00,   2.00000000e+00,   0.00000000e+00,\n",
       "          0.00000000e+00,   1.00000000e+00,   1.00000000e+00,\n",
       "          0.00000000e+00,   1.00000000e+00,   0.00000000e+00,\n",
       "          0.00000000e+00,   0.00000000e+00,   0.00000000e+00,\n",
       "          0.00000000e+00,   0.00000000e+00,   0.00000000e+00,\n",
       "          0.00000000e+00,   0.00000000e+00,   0.00000000e+00,\n",
       "          1.00000000e+00,   0.00000000e+00,   1.00000000e+00,\n",
       "          0.00000000e+00,   0.00000000e+00,   0.00000000e+00,\n",
       "          0.00000000e+00,   0.00000000e+00,   0.00000000e+00,\n",
       "          0.00000000e+00,   0.00000000e+00,   0.00000000e+00,\n",
       "          0.00000000e+00,   1.00000000e+00]),\n",
       " array([     0.    ,    513.8232,   1027.6464,   1541.4696,   2055.2928,\n",
       "          2569.116 ,   3082.9392,   3596.7624,   4110.5856,   4624.4088,\n",
       "          5138.232 ,   5652.0552,   6165.8784,   6679.7016,   7193.5248,\n",
       "          7707.348 ,   8221.1712,   8734.9944,   9248.8176,   9762.6408,\n",
       "         10276.464 ,  10790.2872,  11304.1104,  11817.9336,  12331.7568,\n",
       "         12845.58  ,  13359.4032,  13873.2264,  14387.0496,  14900.8728,\n",
       "         15414.696 ,  15928.5192,  16442.3424,  16956.1656,  17469.9888,\n",
       "         17983.812 ,  18497.6352,  19011.4584,  19525.2816,  20039.1048,\n",
       "         20552.928 ,  21066.7512,  21580.5744,  22094.3976,  22608.2208,\n",
       "         23122.044 ,  23635.8672,  24149.6904,  24663.5136,  25177.3368,\n",
       "         25691.16  ]),\n",
       " <a list of 50 Patch objects>)"
      ]
     },
     "execution_count": 11,
     "metadata": {},
     "output_type": "execute_result"
    },
    {
     "data": {
      "image/png": "[encoded data removed]",
      "text/plain": [
       "<matplotlib.figure.Figure at 0x16312dfc160>"
      ]
     },
     "metadata": {},
     "output_type": "display_data"
    }
   ],
   "source": [
    "plt.hist(credit_fraud['Amount'], bins=50)# the only known and understandable colunm is Amount, it is extremely skewed.  "
   ]
  },
  {
   "cell_type": "code",
   "execution_count": 12,
   "metadata": {
    "collapsed": true
   },
   "outputs": [],
   "source": [
    "target = credit_fraud['Class'] # seperate target from the rest of the data"
   ]
  },
  {
   "cell_type": "code",
   "execution_count": 13,
   "metadata": {
    "collapsed": true
   },
   "outputs": [],
   "source": [
    "credit_fraud_analysis = credit_fraud.drop(['Time','Class'],axis = 1)"
   ]
  },
  {
   "cell_type": "code",
   "execution_count": 14,
   "metadata": {
    "collapsed": true
   },
   "outputs": [],
   "source": [
    "x = credit_fraud_analysis\n",
    "y = target"
   ]
  },
  {
   "cell_type": "code",
   "execution_count": 15,
   "metadata": {
    "collapsed": true
   },
   "outputs": [],
   "source": [
    "from sklearn.model_selection import train_test_split     #seperate imbalanced dataset into training and testing, !stratify parameter)\n",
    "X_train, X_test, y_train, y_test = train_test_split(x, y,\n",
    "                                                stratify=y, \n",
    "                                                test_size=0.30)"
   ]
  },
  {
   "cell_type": "code",
   "execution_count": 16,
   "metadata": {},
   "outputs": [
    {
     "data": {
      "text/plain": [
       "<matplotlib.axes._subplots.AxesSubplot at 0x16312f16a58>"
      ]
     },
     "execution_count": 16,
     "metadata": {},
     "output_type": "execute_result"
    },
    {
     "data": {
      "image/png": "[encoded data removed]",
      "text/plain": [
       "<matplotlib.figure.Figure at 0x163135d2c50>"
      ]
     },
     "metadata": {},
     "output_type": "display_data"
    }
   ],
   "source": [
    "sns.heatmap(X_train.corr())"
   ]
  },
  {
   "cell_type": "code",
   "execution_count": 17,
   "metadata": {},
   "outputs": [
    {
     "data": {
      "text/plain": [
       "LogisticRegressionCV(Cs=10, class_weight=None, cv=10, dual=False,\n",
       "           fit_intercept=True, intercept_scaling=1.0, max_iter=100,\n",
       "           multi_class='ovr', n_jobs=1, penalty='l2', random_state=None,\n",
       "           refit=True, scoring='average_precision', solver='lbfgs',\n",
       "           tol=0.0001, verbose=0)"
      ]
     },
     "execution_count": 17,
     "metadata": {},
     "output_type": "execute_result"
    }
   ],
   "source": [
    "logit = LogisticRegressionCV(Cs = 10, cv = 10, scoring = 'average_precision')\n",
    "logit.fit(preprocessing.normalize(X_train), y_train)"
   ]
  },
  {
   "cell_type": "code",
   "execution_count": 18,
   "metadata": {},
   "outputs": [
    {
     "data": {
      "text/plain": [
       "{1: array([[ 0.485433  ,  0.48563144,  0.48795976,  0.52296178,  0.61140779,\n",
       "          0.62263495,  0.60748504,  0.60592441,  0.60626115,  0.60627931],\n",
       "        [ 0.28737562,  0.28838725,  0.30262024,  0.38632955,  0.57356345,\n",
       "          0.59965788,  0.60832035,  0.61399694,  0.61679852,  0.61689878],\n",
       "        [ 0.40309642,  0.40314123,  0.4035404 ,  0.41878242,  0.52298842,\n",
       "          0.57178529,  0.58815503,  0.58894693,  0.58957379,  0.58972208],\n",
       "        [ 0.51606822,  0.51614109,  0.52056051,  0.53338348,  0.60444412,\n",
       "          0.63705385,  0.65585768,  0.66002193,  0.660053  ,  0.66050849],\n",
       "        [ 0.4756883 ,  0.476979  ,  0.48271768,  0.52295952,  0.60023173,\n",
       "          0.66537419,  0.68177431,  0.68242699,  0.68372401,  0.68415336],\n",
       "        [ 0.26939423,  0.27069223,  0.28061636,  0.33364167,  0.52855109,\n",
       "          0.59831052,  0.6130387 ,  0.61245458,  0.61145754,  0.6072557 ],\n",
       "        [ 0.40200338,  0.40278466,  0.40460798,  0.4235437 ,  0.54433255,\n",
       "          0.59765843,  0.60448745,  0.60209923,  0.60065112,  0.60078222],\n",
       "        [ 0.44192962,  0.44200015,  0.44276851,  0.4799379 ,  0.62360698,\n",
       "          0.63324679,  0.63062252,  0.63138031,  0.63403381,  0.63408226],\n",
       "        [ 0.47110714,  0.47113862,  0.46864478,  0.46667822,  0.50949689,\n",
       "          0.54329205,  0.5491448 ,  0.53560132,  0.53219474,  0.53146025],\n",
       "        [ 0.26487646,  0.26723829,  0.298911  ,  0.39174749,  0.52704791,\n",
       "          0.58197577,  0.61141845,  0.61583509,  0.61857064,  0.61944396]])}"
      ]
     },
     "execution_count": 18,
     "metadata": {},
     "output_type": "execute_result"
    }
   ],
   "source": [
    "logit.scores_"
   ]
  },
  {
   "cell_type": "code",
   "execution_count": 19,
   "metadata": {
    "collapsed": true
   },
   "outputs": [],
   "source": [
    "a = logit.predict(preprocessing.normalize(X_test))"
   ]
  },
  {
   "cell_type": "code",
   "execution_count": 20,
   "metadata": {},
   "outputs": [
    {
     "data": {
      "text/plain": [
       "(85276, 75, 19, 73)"
      ]
     },
     "execution_count": 20,
     "metadata": {},
     "output_type": "execute_result"
    }
   ],
   "source": [
    "tn, fp, fn, tp = confusion_matrix(a, y_test).ravel()\n",
    "(tn, fp, fn, tp)"
   ]
  },
  {
   "cell_type": "code",
   "execution_count": 43,
   "metadata": {
    "collapsed": true
   },
   "outputs": [],
   "source": [
    "accuracy = (tp + tn)/(tn + fp + fn + tp)\n",
    "TPR = tp/(tp+fn)\n",
    "FPR = fp/(fp+tn)\n",
    "FNR = fn/(tp+fn)\n",
    "precision = tp/(tp+fp)"
   ]
  },
  {
   "cell_type": "code",
   "execution_count": 22,
   "metadata": {},
   "outputs": [
    {
     "name": "stdout",
     "output_type": "stream",
     "text": [
      "0.998899851363 0.79347826087 0.000878724326604 0.20652173913 0.493243243243\n"
     ]
    }
   ],
   "source": [
    "print(accuracy, TPR, FPR, FNR, precision)"
   ]
  },
  {
   "cell_type": "code",
   "execution_count": 45,
   "metadata": {},
   "outputs": [],
   "source": [
    "forrest = RandomForestClassifier(max_depth = 5, n_estimators = 50)\n",
    "from sklearn.model_selection import cross_val_score"
   ]
  },
  {
   "cell_type": "code",
   "execution_count": 31,
   "metadata": {
    "collapsed": true
   },
   "outputs": [],
   "source": [
    "score = cross_val_score(forrest,preprocessing.normalize(X_train), y_train, cv = 10)"
   ]
  },
  {
   "cell_type": "code",
   "execution_count": 46,
   "metadata": {},
   "outputs": [
    {
     "data": {
      "text/plain": [
       "RandomForestClassifier(bootstrap=True, class_weight=None, criterion='gini',\n",
       "            max_depth=5, max_features='auto', max_leaf_nodes=None,\n",
       "            min_impurity_split=1e-07, min_samples_leaf=1,\n",
       "            min_samples_split=2, min_weight_fraction_leaf=0.0,\n",
       "            n_estimators=50, n_jobs=1, oob_score=False, random_state=None,\n",
       "            verbose=0, warm_start=False)"
      ]
     },
     "execution_count": 46,
     "metadata": {},
     "output_type": "execute_result"
    }
   ],
   "source": [
    "forrest.fit(preprocessing.normalize(X_train), y_train)"
   ]
  },
  {
   "cell_type": "code",
   "execution_count": 47,
   "metadata": {},
   "outputs": [
    {
     "data": {
      "text/plain": [
       "array([[85291,    97],\n",
       "       [    4,    51]])"
      ]
     },
     "execution_count": 47,
     "metadata": {},
     "output_type": "execute_result"
    }
   ],
   "source": [
    "result = forrest.predict(preprocessing.normalize(X_test))\n",
    "confusion_matrix(result, y_test)"
   ]
  },
  {
   "cell_type": "code",
   "execution_count": 48,
   "metadata": {},
   "outputs": [
    {
     "name": "stdout",
     "output_type": "stream",
     "text": [
      "0.998431703007 0.9375 0.00155688482564 0.0625 0.101351351351\n"
     ]
    }
   ],
   "source": [
    "result = forrest.predict(preprocessing.normalize(X_test))\n",
    "tn, fp, fn, tp = confusion_matrix(result, y_test).ravel()\n",
    "print(accuracy, TPR, FPR, FNR, precision)"
   ]
  },
  {
   "cell_type": "code",
   "execution_count": 36,
   "metadata": {},
   "outputs": [
    {
     "data": {
      "text/plain": [
       "array([0, 0, 0, ..., 0, 0, 0], dtype=int64)"
      ]
     },
     "execution_count": 36,
     "metadata": {},
     "output_type": "execute_result"
    }
   ],
   "source": []
  },
  {
   "cell_type": "code",
   "execution_count": 23,
   "metadata": {
    "collapsed": true
   },
   "outputs": [],
   "source": [
    "credit_fraud_analysis = preprocessing.normalize(credit_fraud_analysis)"
   ]
  },
  {
   "cell_type": "code",
   "execution_count": 24,
   "metadata": {
    "collapsed": true
   },
   "outputs": [],
   "source": [
    "credit_fraud_analysis = pd.DataFrame(credit_fraud_analysis)"
   ]
  },
  {
   "cell_type": "code",
   "execution_count": 25,
   "metadata": {
    "collapsed": true
   },
   "outputs": [],
   "source": [
    "credit_fraud_analysis.columns = credit_fraud.columns[1:30]"
   ]
  },
  {
   "cell_type": "code",
   "execution_count": 26,
   "metadata": {},
   "outputs": [
    {
     "data": {
      "text/html": [
       "<div>\n",
       "<style>\n",
       "    .dataframe thead tr:only-child th {\n",
       "        text-align: right;\n",
       "    }\n",
       "\n",
       "    .dataframe thead th {\n",
       "        text-align: left;\n",
       "    }\n",
       "\n",
       "    .dataframe tbody tr th {\n",
       "        vertical-align: top;\n",
       "    }\n",
       "</style>\n",
       "<table border=\"1\" class=\"dataframe\">\n",
       "  <thead>\n",
       "    <tr style=\"text-align: right;\">\n",
       "      <th></th>\n",
       "      <th>V1</th>\n",
       "      <th>V2</th>\n",
       "      <th>V3</th>\n",
       "      <th>V4</th>\n",
       "      <th>V5</th>\n",
       "      <th>V6</th>\n",
       "      <th>V7</th>\n",
       "      <th>V8</th>\n",
       "      <th>V9</th>\n",
       "      <th>V10</th>\n",
       "      <th>...</th>\n",
       "      <th>V20</th>\n",
       "      <th>V21</th>\n",
       "      <th>V22</th>\n",
       "      <th>V23</th>\n",
       "      <th>V24</th>\n",
       "      <th>V25</th>\n",
       "      <th>V26</th>\n",
       "      <th>V27</th>\n",
       "      <th>V28</th>\n",
       "      <th>Amount</th>\n",
       "    </tr>\n",
       "  </thead>\n",
       "  <tbody>\n",
       "    <tr>\n",
       "      <th>0</th>\n",
       "      <td>-0.009085</td>\n",
       "      <td>-0.000486</td>\n",
       "      <td>0.016946</td>\n",
       "      <td>0.009208</td>\n",
       "      <td>-0.002260</td>\n",
       "      <td>0.003089</td>\n",
       "      <td>0.001601</td>\n",
       "      <td>0.000659</td>\n",
       "      <td>0.002431</td>\n",
       "      <td>0.000607</td>\n",
       "      <td>...</td>\n",
       "      <td>0.001680</td>\n",
       "      <td>-0.000122</td>\n",
       "      <td>0.001856</td>\n",
       "      <td>-0.000738</td>\n",
       "      <td>0.000447</td>\n",
       "      <td>0.000859</td>\n",
       "      <td>-0.001264</td>\n",
       "      <td>0.000892</td>\n",
       "      <td>-0.000141</td>\n",
       "      <td>0.999658</td>\n",
       "    </tr>\n",
       "    <tr>\n",
       "      <th>1</th>\n",
       "      <td>0.314200</td>\n",
       "      <td>0.070163</td>\n",
       "      <td>0.043888</td>\n",
       "      <td>0.118143</td>\n",
       "      <td>0.015822</td>\n",
       "      <td>-0.021712</td>\n",
       "      <td>-0.020774</td>\n",
       "      <td>0.022435</td>\n",
       "      <td>-0.067336</td>\n",
       "      <td>-0.044018</td>\n",
       "      <td>...</td>\n",
       "      <td>-0.018212</td>\n",
       "      <td>-0.059519</td>\n",
       "      <td>-0.168368</td>\n",
       "      <td>0.026702</td>\n",
       "      <td>-0.089591</td>\n",
       "      <td>0.044070</td>\n",
       "      <td>0.033189</td>\n",
       "      <td>-0.002368</td>\n",
       "      <td>0.003882</td>\n",
       "      <td>0.709144</td>\n",
       "    </tr>\n",
       "    <tr>\n",
       "      <th>2</th>\n",
       "      <td>-0.003587</td>\n",
       "      <td>-0.003539</td>\n",
       "      <td>0.004682</td>\n",
       "      <td>0.001003</td>\n",
       "      <td>-0.001329</td>\n",
       "      <td>0.004754</td>\n",
       "      <td>0.002090</td>\n",
       "      <td>0.000654</td>\n",
       "      <td>-0.004000</td>\n",
       "      <td>0.000548</td>\n",
       "      <td>...</td>\n",
       "      <td>0.001386</td>\n",
       "      <td>0.000655</td>\n",
       "      <td>0.002038</td>\n",
       "      <td>0.002401</td>\n",
       "      <td>-0.001820</td>\n",
       "      <td>-0.000865</td>\n",
       "      <td>-0.000367</td>\n",
       "      <td>-0.000146</td>\n",
       "      <td>-0.000158</td>\n",
       "      <td>0.999871</td>\n",
       "    </tr>\n",
       "    <tr>\n",
       "      <th>3</th>\n",
       "      <td>-0.007819</td>\n",
       "      <td>-0.001499</td>\n",
       "      <td>0.014509</td>\n",
       "      <td>-0.006986</td>\n",
       "      <td>-0.000083</td>\n",
       "      <td>0.010093</td>\n",
       "      <td>0.001923</td>\n",
       "      <td>0.003054</td>\n",
       "      <td>-0.011224</td>\n",
       "      <td>-0.000445</td>\n",
       "      <td>...</td>\n",
       "      <td>-0.001684</td>\n",
       "      <td>-0.000876</td>\n",
       "      <td>0.000043</td>\n",
       "      <td>-0.001540</td>\n",
       "      <td>-0.009513</td>\n",
       "      <td>0.005239</td>\n",
       "      <td>-0.001796</td>\n",
       "      <td>0.000508</td>\n",
       "      <td>0.000497</td>\n",
       "      <td>0.999399</td>\n",
       "    </tr>\n",
       "    <tr>\n",
       "      <th>4</th>\n",
       "      <td>-0.016527</td>\n",
       "      <td>0.012525</td>\n",
       "      <td>0.022099</td>\n",
       "      <td>0.005751</td>\n",
       "      <td>-0.005810</td>\n",
       "      <td>0.001369</td>\n",
       "      <td>0.008461</td>\n",
       "      <td>-0.003860</td>\n",
       "      <td>0.011669</td>\n",
       "      <td>0.010746</td>\n",
       "      <td>...</td>\n",
       "      <td>0.005830</td>\n",
       "      <td>-0.000135</td>\n",
       "      <td>0.011391</td>\n",
       "      <td>-0.001961</td>\n",
       "      <td>0.002016</td>\n",
       "      <td>-0.002940</td>\n",
       "      <td>0.007167</td>\n",
       "      <td>0.003131</td>\n",
       "      <td>0.003070</td>\n",
       "      <td>0.998705</td>\n",
       "    </tr>\n",
       "  </tbody>\n",
       "</table>\n",
       "<p>5 rows × 29 columns</p>\n",
       "</div>"
      ],
      "text/plain": [
       "         V1        V2        V3        V4        V5        V6        V7  \\\n",
       "0 -0.009085 -0.000486  0.016946  0.009208 -0.002260  0.003089  0.001601   \n",
       "1  0.314200  0.070163  0.043888  0.118143  0.015822 -0.021712 -0.020774   \n",
       "2 -0.003587 -0.003539  0.004682  0.001003 -0.001329  0.004754  0.002090   \n",
       "3 -0.007819 -0.001499  0.014509 -0.006986 -0.000083  0.010093  0.001923   \n",
       "4 -0.016527  0.012525  0.022099  0.005751 -0.005810  0.001369  0.008461   \n",
       "\n",
       "         V8        V9       V10    ...          V20       V21       V22  \\\n",
       "0  0.000659  0.002431  0.000607    ...     0.001680 -0.000122  0.001856   \n",
       "1  0.022435 -0.067336 -0.044018    ...    -0.018212 -0.059519 -0.168368   \n",
       "2  0.000654 -0.004000  0.000548    ...     0.001386  0.000655  0.002038   \n",
       "3  0.003054 -0.011224 -0.000445    ...    -0.001684 -0.000876  0.000043   \n",
       "4 -0.003860  0.011669  0.010746    ...     0.005830 -0.000135  0.011391   \n",
       "\n",
       "        V23       V24       V25       V26       V27       V28    Amount  \n",
       "0 -0.000738  0.000447  0.000859 -0.001264  0.000892 -0.000141  0.999658  \n",
       "1  0.026702 -0.089591  0.044070  0.033189 -0.002368  0.003882  0.709144  \n",
       "2  0.002401 -0.001820 -0.000865 -0.000367 -0.000146 -0.000158  0.999871  \n",
       "3 -0.001540 -0.009513  0.005239 -0.001796  0.000508  0.000497  0.999399  \n",
       "4 -0.001961  0.002016 -0.002940  0.007167  0.003131  0.003070  0.998705  \n",
       "\n",
       "[5 rows x 29 columns]"
      ]
     },
     "execution_count": 26,
     "metadata": {},
     "output_type": "execute_result"
    }
   ],
   "source": [
    "credit_fraud_analysis.head()"
   ]
  },
  {
   "cell_type": "code",
   "execution_count": 27,
   "metadata": {},
   "outputs": [
    {
     "data": {
      "text/plain": [
       "<matplotlib.axes._subplots.AxesSubplot at 0x16313696898>"
      ]
     },
     "execution_count": 27,
     "metadata": {},
     "output_type": "execute_result"
    },
    {
     "data": {
      "image/png": "[encoded data removed]",
      "text/plain": [
       "<matplotlib.figure.Figure at 0x16313b89940>"
      ]
     },
     "metadata": {},
     "output_type": "display_data"
    }
   ],
   "source": [
    "sns.boxplot(data = credit_fraud_analysis)"
   ]
  },
  {
   "cell_type": "code",
   "execution_count": 51,
   "metadata": {
    "collapsed": true
   },
   "outputs": [],
   "source": [
    "feature_columns = [tf.feature_column.numeric_column(\"x\", shape=[29])]"
   ]
  },
  {
   "cell_type": "code",
   "execution_count": 52,
   "metadata": {},
   "outputs": [
    {
     "name": "stdout",
     "output_type": "stream",
     "text": [
      "INFO:tensorflow:Using default config.\n",
      "INFO:tensorflow:Using config: {'_model_dir': '/tmp/credit_fraud', '_tf_random_seed': 1, '_save_summary_steps': 100, '_save_checkpoints_secs': 600, '_save_checkpoints_steps': None, '_session_config': None, '_keep_checkpoint_max': 5, '_keep_checkpoint_every_n_hours': 10000, '_log_step_count_steps': 100}\n"
     ]
    }
   ],
   "source": [
    "classifier = tf.estimator.DNNClassifier(feature_columns=feature_columns,\n",
    "                                          hidden_units=[10, 20, 10],\n",
    "                                          n_classes=2,\n",
    "                                          model_dir=\"/tmp/credit_fraud\")"
   ]
  },
  {
   "cell_type": "code",
   "execution_count": 53,
   "metadata": {
    "collapsed": true
   },
   "outputs": [],
   "source": [
    "train_input_fn = tf.estimator.inputs.numpy_input_fn(\n",
    "      x={\"x\": np.array(X_train)},\n",
    "      y=np.array(y_train),\n",
    "      num_epochs=None,\n",
    "      shuffle=True)"
   ]
  },
  {
   "cell_type": "code",
   "execution_count": 63,
   "metadata": {},
   "outputs": [
    {
     "name": "stdout",
     "output_type": "stream",
     "text": [
      "INFO:tensorflow:Create CheckpointSaverHook.\n",
      "INFO:tensorflow:Restoring parameters from /tmp/credit_fraud\\model.ckpt-5000\n",
      "INFO:tensorflow:Saving checkpoints for 5001 into /tmp/credit_fraud\\model.ckpt.\n",
      "INFO:tensorflow:loss = 0.0359696, step = 5001\n",
      "INFO:tensorflow:global_step/sec: 253.111\n",
      "INFO:tensorflow:loss = 0.0962254, step = 5101 (0.399 sec)\n",
      "INFO:tensorflow:global_step/sec: 273.945\n",
      "INFO:tensorflow:loss = 0.0188835, step = 5201 (0.365 sec)\n",
      "INFO:tensorflow:global_step/sec: 266.781\n",
      "INFO:tensorflow:loss = 0.0187277, step = 5301 (0.374 sec)\n",
      "INFO:tensorflow:global_step/sec: 261.608\n",
      "INFO:tensorflow:loss = 0.0205327, step = 5401 (0.384 sec)\n",
      "INFO:tensorflow:global_step/sec: 262.981\n",
      "INFO:tensorflow:loss = 0.0163411, step = 5501 (0.379 sec)\n",
      "INFO:tensorflow:global_step/sec: 268.64\n",
      "INFO:tensorflow:loss = 0.0530356, step = 5601 (0.371 sec)\n",
      "INFO:tensorflow:global_step/sec: 270.825\n",
      "INFO:tensorflow:loss = 4.64032, step = 5701 (0.369 sec)\n",
      "INFO:tensorflow:global_step/sec: 276.641\n",
      "INFO:tensorflow:loss = 0.0428237, step = 5801 (0.363 sec)\n",
      "INFO:tensorflow:global_step/sec: 258.236\n",
      "INFO:tensorflow:loss = 1.24422, step = 5901 (0.387 sec)\n",
      "INFO:tensorflow:global_step/sec: 236.809\n",
      "INFO:tensorflow:loss = 0.0721687, step = 6001 (0.426 sec)\n",
      "INFO:tensorflow:global_step/sec: 248.795\n",
      "INFO:tensorflow:loss = 1.34692, step = 6101 (0.398 sec)\n",
      "INFO:tensorflow:global_step/sec: 264.493\n",
      "INFO:tensorflow:loss = 0.258924, step = 6201 (0.378 sec)\n",
      "INFO:tensorflow:global_step/sec: 288.147\n",
      "INFO:tensorflow:loss = 0.598471, step = 6301 (0.347 sec)\n",
      "INFO:tensorflow:global_step/sec: 279.144\n",
      "INFO:tensorflow:loss = 0.021815, step = 6401 (0.358 sec)\n",
      "INFO:tensorflow:global_step/sec: 262.483\n",
      "INFO:tensorflow:loss = 0.0109254, step = 6501 (0.380 sec)\n",
      "INFO:tensorflow:global_step/sec: 272.299\n",
      "INFO:tensorflow:loss = 0.0476862, step = 6601 (0.368 sec)\n",
      "INFO:tensorflow:global_step/sec: 257.518\n",
      "INFO:tensorflow:loss = 0.04045, step = 6701 (0.388 sec)\n",
      "INFO:tensorflow:global_step/sec: 245.852\n",
      "INFO:tensorflow:loss = 0.0174434, step = 6801 (0.410 sec)\n",
      "INFO:tensorflow:global_step/sec: 262.019\n",
      "INFO:tensorflow:loss = 0.0326946, step = 6901 (0.379 sec)\n",
      "INFO:tensorflow:global_step/sec: 263.68\n",
      "INFO:tensorflow:loss = 0.0206987, step = 7001 (0.381 sec)\n",
      "INFO:tensorflow:global_step/sec: 267.201\n",
      "INFO:tensorflow:loss = 0.022032, step = 7101 (0.372 sec)\n",
      "INFO:tensorflow:global_step/sec: 258.664\n",
      "INFO:tensorflow:loss = 0.482709, step = 7201 (0.387 sec)\n",
      "INFO:tensorflow:global_step/sec: 270.715\n",
      "INFO:tensorflow:loss = 0.0222554, step = 7301 (0.370 sec)\n",
      "INFO:tensorflow:global_step/sec: 272.85\n",
      "INFO:tensorflow:loss = 0.172397, step = 7401 (0.366 sec)\n",
      "INFO:tensorflow:global_step/sec: 259.57\n",
      "INFO:tensorflow:loss = 0.0939697, step = 7501 (0.385 sec)\n",
      "INFO:tensorflow:global_step/sec: 255.474\n",
      "INFO:tensorflow:loss = 4.68367, step = 7601 (0.392 sec)\n",
      "INFO:tensorflow:global_step/sec: 245.595\n",
      "INFO:tensorflow:loss = 0.0341634, step = 7701 (0.406 sec)\n",
      "INFO:tensorflow:global_step/sec: 267.449\n",
      "INFO:tensorflow:loss = 1.02664, step = 7801 (0.379 sec)\n",
      "INFO:tensorflow:global_step/sec: 268.642\n",
      "INFO:tensorflow:loss = 4.0766, step = 7901 (0.369 sec)\n",
      "INFO:tensorflow:global_step/sec: 260.239\n",
      "INFO:tensorflow:loss = 0.07477, step = 8001 (0.384 sec)\n",
      "INFO:tensorflow:global_step/sec: 237.94\n",
      "INFO:tensorflow:loss = 0.0099916, step = 8101 (0.419 sec)\n",
      "INFO:tensorflow:global_step/sec: 266.489\n",
      "INFO:tensorflow:loss = 0.0972747, step = 8201 (0.379 sec)\n",
      "INFO:tensorflow:global_step/sec: 260.239\n",
      "INFO:tensorflow:loss = 0.0140063, step = 8301 (0.380 sec)\n",
      "INFO:tensorflow:global_step/sec: 262.054\n",
      "INFO:tensorflow:loss = 0.163307, step = 8401 (0.382 sec)\n",
      "INFO:tensorflow:global_step/sec: 248.591\n",
      "INFO:tensorflow:loss = 0.199577, step = 8501 (0.401 sec)\n",
      "INFO:tensorflow:global_step/sec: 261.302\n",
      "INFO:tensorflow:loss = 0.0223187, step = 8601 (0.382 sec)\n",
      "INFO:tensorflow:global_step/sec: 263.053\n",
      "INFO:tensorflow:loss = 0.0269184, step = 8701 (0.383 sec)\n",
      "INFO:tensorflow:global_step/sec: 271.038\n",
      "INFO:tensorflow:loss = 1.52752, step = 8801 (0.367 sec)\n",
      "INFO:tensorflow:global_step/sec: 257.527\n",
      "INFO:tensorflow:loss = 0.0507097, step = 8901 (0.389 sec)\n",
      "INFO:tensorflow:global_step/sec: 255.588\n",
      "INFO:tensorflow:loss = 0.0267018, step = 9001 (0.399 sec)\n",
      "INFO:tensorflow:global_step/sec: 249.207\n",
      "INFO:tensorflow:loss = 0.0381505, step = 9101 (0.393 sec)\n",
      "INFO:tensorflow:global_step/sec: 266.482\n",
      "INFO:tensorflow:loss = 0.0133439, step = 9201 (0.375 sec)\n",
      "INFO:tensorflow:global_step/sec: 261.618\n",
      "INFO:tensorflow:loss = 0.0229436, step = 9301 (0.382 sec)\n",
      "INFO:tensorflow:global_step/sec: 271.554\n",
      "INFO:tensorflow:loss = 0.0201502, step = 9401 (0.371 sec)\n",
      "INFO:tensorflow:global_step/sec: 256.625\n",
      "INFO:tensorflow:loss = 0.116335, step = 9501 (0.388 sec)\n",
      "INFO:tensorflow:global_step/sec: 238.503\n",
      "INFO:tensorflow:loss = 0.0265216, step = 9601 (0.421 sec)\n",
      "INFO:tensorflow:global_step/sec: 264.378\n",
      "INFO:tensorflow:loss = 0.0189044, step = 9701 (0.375 sec)\n",
      "INFO:tensorflow:global_step/sec: 256.102\n",
      "INFO:tensorflow:loss = 0.130335, step = 9801 (0.389 sec)\n",
      "INFO:tensorflow:global_step/sec: 272.733\n",
      "INFO:tensorflow:loss = 0.174522, step = 9901 (0.367 sec)\n",
      "INFO:tensorflow:Saving checkpoints for 10000 into /tmp/credit_fraud\\model.ckpt.\n",
      "INFO:tensorflow:Loss for final step: 0.0195901.\n"
     ]
    },
    {
     "data": {
      "text/plain": [
       "<tensorflow.python.estimator.canned.dnn.DNNClassifier at 0x16330b02e80>"
      ]
     },
     "execution_count": 63,
     "metadata": {},
     "output_type": "execute_result"
    }
   ],
   "source": [
    "classifier.train(input_fn=train_input_fn, steps=5000)"
   ]
  },
  {
   "cell_type": "code",
   "execution_count": 55,
   "metadata": {
    "collapsed": true
   },
   "outputs": [],
   "source": [
    "test_input_fn = tf.estimator.inputs.numpy_input_fn(\n",
    "      x={\"x\": np.array(X_test)},\n",
    "      y=np.array(y_test),\n",
    "      num_epochs=1,\n",
    "      shuffle=False)"
   ]
  },
  {
   "cell_type": "code",
   "execution_count": 64,
   "metadata": {},
   "outputs": [
    {
     "name": "stdout",
     "output_type": "stream",
     "text": [
      "WARNING:tensorflow:Casting <dtype: 'float32'> labels to bool.\n",
      "WARNING:tensorflow:Casting <dtype: 'float32'> labels to bool.\n",
      "INFO:tensorflow:Starting evaluation at 2017-10-16-02:18:36\n",
      "INFO:tensorflow:Restoring parameters from /tmp/credit_fraud\\model.ckpt-10000\n",
      "INFO:tensorflow:Finished evaluation at 2017-10-16-02:18:43\n",
      "INFO:tensorflow:Saving dict for global step 10000: accuracy = 0.999356, accuracy_baseline = 0.998268, auc = 0.928582, auc_precision_recall = 0.823288, average_loss = 0.00317883, global_step = 10000, label/mean = 0.00173215, loss = 0.4066, prediction/mean = 0.00172678\n"
     ]
    }
   ],
   "source": [
    "accuracy_score = classifier.evaluate(input_fn=test_input_fn)"
   ]
  },
  {
   "cell_type": "code",
   "execution_count": 66,
   "metadata": {},
   "outputs": [
    {
     "name": "stdout",
     "output_type": "stream",
     "text": [
      "INFO:tensorflow:Restoring parameters from /tmp/credit_fraud\\model.ckpt-10000\n"
     ]
    }
   ],
   "source": [
    "predictions = list(classifier.predict(input_fn=test_input_fn))\n",
    "predicted_classes = [p[\"classes\"] for p in predictions]"
   ]
  },
  {
   "cell_type": "code",
   "execution_count": 70,
   "metadata": {},
   "outputs": [],
   "source": [
    "result = pd.DataFrame(predicted_classes)\n",
    "c = result[0].apply(lambda x: int(x))"
   ]
  },
  {
   "cell_type": "code",
   "execution_count": 71,
   "metadata": {},
   "outputs": [
    {
     "data": {
      "text/plain": [
       "147"
      ]
     },
     "execution_count": 71,
     "metadata": {},
     "output_type": "execute_result"
    }
   ],
   "source": [
    "np.sum(c)"
   ]
  },
  {
   "cell_type": "code",
   "execution_count": 72,
   "metadata": {},
   "outputs": [
    {
     "data": {
      "text/plain": [
       "148"
      ]
     },
     "execution_count": 72,
     "metadata": {},
     "output_type": "execute_result"
    }
   ],
   "source": [
    "np.sum(y_test)"
   ]
  }
 ],
 "metadata": {
  "kernelspec": {
   "display_name": "Python 3",
   "language": "python",
   "name": "python3"
  },
  "language_info": {
   "codemirror_mode": {
    "name": "ipython",
    "version": 3
   },
   "file_extension": ".py",
   "mimetype": "text/x-python",
   "name": "python",
   "nbconvert_exporter": "python",
   "pygments_lexer": "ipython3",
   "version": "3.6.1"
  }
 },
 "nbformat": 4,
 "nbformat_minor": 2
}
